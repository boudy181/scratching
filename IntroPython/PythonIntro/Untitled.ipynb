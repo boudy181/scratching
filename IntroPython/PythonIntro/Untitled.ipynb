{
 "cells": [
  {
   "cell_type": "code",
   "execution_count": 5,
   "metadata": {},
   "outputs": [
    {
     "ename": "SyntaxError",
     "evalue": "invalid syntax (<ipython-input-5-069d3c6bd525>, line 1)",
     "output_type": "error",
     "traceback": [
      "\u001b[0;36m  File \u001b[0;32m\"<ipython-input-5-069d3c6bd525>\"\u001b[0;36m, line \u001b[0;32m1\u001b[0m\n\u001b[0;31m    ages = ['Chuck' : 56, 'Patsy' : 61, 'Edina' : 58]\u001b[0m\n\u001b[0m                    ^\u001b[0m\n\u001b[0;31mSyntaxError\u001b[0m\u001b[0;31m:\u001b[0m invalid syntax\n"
     ]
    }
   ],
   "source": [
    "ages = ['Chuck' : 56, 'Patsy' : 61, 'Edina' : 58]\n",
    "print(ages)"
   ]
  },
  {
   "cell_type": "code",
   "execution_count": 11,
   "metadata": {},
   "outputs": [
    {
     "name": "stdout",
     "output_type": "stream",
     "text": [
      "['Patsy Stone', 'Edina Monsoon', 'Saffron Monsoon']\n",
      "Patsy Stone\n",
      "Edina Monsoon\n",
      "Saffron Monsoon\n"
     ]
    }
   ],
   "source": [
    "#!/usr/bin/env python\n",
    "# indenting.py\n",
    "# An array(list) of strings\n",
    "names = [\"Patsy Stone\", \"Edina Monsoon\", \"Saffron Monsoon\"]\n",
    "# Iterate over names in a for loop\n",
    "print (names)\n",
    "for name in names:\n",
    "    # The line below must be indented because it is part of (subordinate to)\n",
    "    # the for loop.\n",
    "    print (name)"
   ]
  },
  {
   "cell_type": "code",
   "execution_count": null,
   "metadata": {},
   "outputs": [],
   "source": [
    "line"
   ]
  }
 ],
 "metadata": {
  "kernelspec": {
   "display_name": "Python 3",
   "language": "python",
   "name": "python3"
  },
  "language_info": {
   "codemirror_mode": {
    "name": "ipython",
    "version": 3
   },
   "file_extension": ".py",
   "mimetype": "text/x-python",
   "name": "python",
   "nbconvert_exporter": "python",
   "pygments_lexer": "ipython3",
   "version": "3.7.1"
  }
 },
 "nbformat": 4,
 "nbformat_minor": 2
}
